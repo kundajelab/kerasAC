{
 "cells": [
  {
   "cell_type": "code",
   "execution_count": 1,
   "metadata": {},
   "outputs": [],
   "source": [
    "import tiledb\n",
    "import numpy as np \n",
    "import pdb \n",
    "datapath=\"/mnt/lab_data2/projects/adpd/adpd_tiledb_pseudobulk/Cluster24.chr1\"\n",
    "data=tiledb.DenseArray(datapath,mode='r')\n",
    "fc_bigwig=data[:]['fc_bigwig']\n",
    "idr_peak=data[:]['idr_peak']\n",
    "#overlap_peak=data[:]['overlap_peak']\n",
    "#pval_bigwig=data[:]['pval_bigwig']\n",
    "#ambig_peak=data[:]['ambig_peak']\n",
    "#ambig_peak=data[:]['count_bigwig_plus_5p']\n",
    "#ambig_peak=data[:]['count_bigwig_minus_5p']\n",
    "#print(np.nanmax(overlap_peak))\n",
    "#print(np.nanmax(idr_peak))\n",
    "#print(np.nanmax(ambig_peak))\n",
    "#print(np.nanmax(pval_bigwig))\n",
    "#print(np.nanmax(fc_bigwig))\n",
    "\n"
   ]
  },
  {
   "cell_type": "code",
   "execution_count": 2,
   "metadata": {},
   "outputs": [],
   "source": [
    "import pandas as pd\n",
    "import matplotlib \n",
    "from matplotlib import pyplot as plt"
   ]
  },
  {
   "cell_type": "code",
   "execution_count": 3,
   "metadata": {},
   "outputs": [],
   "source": [
    "idr_narrowPeak=pd.read_csv(\"Cluster24.idr.optimal.narrowPeak.chr1\",header=None,sep='\\t')\n",
    "idr_narrowPeak_uniq=pd.read_csv(\"Cluster24.idr.optimal.narrowPeak.chr1.uniq\",header=None,sep='\\t')"
   ]
  },
  {
   "cell_type": "code",
   "execution_count": 4,
   "metadata": {},
   "outputs": [],
   "source": [
    "summits=np.where(idr_peak==2)"
   ]
  },
  {
   "cell_type": "code",
   "execution_count": 5,
   "metadata": {},
   "outputs": [
    {
     "data": {
      "text/plain": [
       "19162"
      ]
     },
     "execution_count": 5,
     "metadata": {},
     "output_type": "execute_result"
    }
   ],
   "source": [
    "len(summits[0])"
   ]
  },
  {
   "cell_type": "code",
   "execution_count": 6,
   "metadata": {},
   "outputs": [
    {
     "data": {
      "text/plain": [
       "19162"
      ]
     },
     "execution_count": 6,
     "metadata": {},
     "output_type": "execute_result"
    }
   ],
   "source": [
    "expected_summits=idr_narrowPeak[1]+idr_narrowPeak[9]\n",
    "len(expected_summits)"
   ]
  },
  {
   "cell_type": "code",
   "execution_count": 7,
   "metadata": {},
   "outputs": [
    {
     "name": "stdout",
     "output_type": "stream",
     "text": [
      "[ 10058  10341  10442 629940 634016 778423 778638 778849 779181 816933]\n"
     ]
    }
   ],
   "source": [
    "print(summits[0][0:10])"
   ]
  },
  {
   "cell_type": "code",
   "execution_count": 8,
   "metadata": {},
   "outputs": [
    {
     "data": {
      "text/plain": [
       "0       10058\n",
       "1       10341\n",
       "2       10442\n",
       "3      629940\n",
       "4      634016\n",
       "5      778638\n",
       "6      778849\n",
       "7      778423\n",
       "8      779181\n",
       "9      817333\n",
       "10     817061\n",
       "11     816933\n",
       "12     826824\n",
       "13     827567\n",
       "14     827266\n",
       "15     827035\n",
       "16     827481\n",
       "17     869883\n",
       "18     870156\n",
       "19     869967\n",
       "20     869665\n",
       "21     904722\n",
       "22     904434\n",
       "23     904824\n",
       "24     905361\n",
       "25     906671\n",
       "26     906924\n",
       "27     921458\n",
       "28     921211\n",
       "29     923810\n",
       "30     923690\n",
       "31     959380\n",
       "32     959071\n",
       "33     959241\n",
       "34     959577\n",
       "35     959765\n",
       "36     960588\n",
       "37     984351\n",
       "38    1001956\n",
       "39    1002036\n",
       "dtype: int64"
      ]
     },
     "execution_count": 8,
     "metadata": {},
     "output_type": "execute_result"
    }
   ],
   "source": [
    "expected_summits[0:40]"
   ]
  },
  {
   "cell_type": "code",
   "execution_count": 14,
   "metadata": {},
   "outputs": [
    {
     "data": {
      "text/plain": [
       "[<matplotlib.lines.Line2D at 0x7f36c2efb9b0>]"
      ]
     },
     "execution_count": 14,
     "metadata": {},
     "output_type": "execute_result"
    },
    {
     "data": {
      "image/png": "[encoded data removed]",
      "text/plain": [
       "<Figure size 432x288 with 1 Axes>"
      ]
     },
     "metadata": {
      "needs_background": "light"
     },
     "output_type": "display_data"
    }
   ],
   "source": [
    "plt.plot(idr_peak)"
   ]
  },
  {
   "cell_type": "code",
   "execution_count": 16,
   "metadata": {},
   "outputs": [
    {
     "data": {
      "text/plain": [
       "[<matplotlib.lines.Line2D at 0x7f363e03f5c0>]"
      ]
     },
     "execution_count": 16,
     "metadata": {},
     "output_type": "execute_result"
    },
    {
     "data": {
      "image/png": "[encoded data removed]",
      "text/plain": [
       "<Figure size 432x288 with 1 Axes>"
      ]
     },
     "metadata": {
      "needs_background": "light"
     },
     "output_type": "display_data"
    }
   ],
   "source": [
    "plt.plot(fc_bigwig)"
   ]
  },
  {
   "cell_type": "code",
   "execution_count": 9,
   "metadata": {},
   "outputs": [
    {
     "data": {
      "text/plain": [
       "4076881"
      ]
     },
     "execution_count": 9,
     "metadata": {},
     "output_type": "execute_result"
    }
   ],
   "source": [
    "len(np.where(idr_peak>=1)[0])"
   ]
  },
  {
   "cell_type": "code",
   "execution_count": 10,
   "metadata": {},
   "outputs": [],
   "source": [
    "coverage=sum(idr_narrowPeak_uniq[2]-idr_narrowPeak_uniq[1])"
   ]
  },
  {
   "cell_type": "code",
   "execution_count": 11,
   "metadata": {},
   "outputs": [
    {
     "data": {
      "text/plain": [
       "4076881"
      ]
     },
     "execution_count": 11,
     "metadata": {},
     "output_type": "execute_result"
    }
   ],
   "source": [
    "coverage"
   ]
  },
  {
   "cell_type": "code",
   "execution_count": null,
   "metadata": {},
   "outputs": [],
   "source": []
  }
 ],
 "metadata": {
  "kernelspec": {
   "display_name": "Python 3",
   "language": "python",
   "name": "python3"
  },
  "language_info": {
   "codemirror_mode": {
    "name": "ipython",
    "version": 3
   },
   "file_extension": ".py",
   "mimetype": "text/x-python",
   "name": "python",
   "nbconvert_exporter": "python",
   "pygments_lexer": "ipython3",
   "version": "3.7.6"
  }
 },
 "nbformat": 4,
 "nbformat_minor": 2
}
